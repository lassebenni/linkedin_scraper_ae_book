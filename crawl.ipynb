{
 "cells": [
  {
   "cell_type": "code",
   "execution_count": null,
   "metadata": {},
   "outputs": [],
   "source": [
    "import requests\n",
    "from models import linkedin_response\n",
    "\n",
    "session = requests.Session()\n",
    "\n",
    "url = \"https://www.linkedin.com/voyager/api/graphql?variables=(start:6,origin:CLUSTER_EXPANSION,query:(keywords:fundamentals%20of%20analytics%20engineering,flagshipSearchIntent:SEARCH_SRP,queryParameters:List((key:resultType,value:List(CONTENT)),(key:searchId,value:List(15a49aba-1ed3-463a-b535-130735ab04e4)))),count:3)&queryId=voyagerSearchDashClusters.09f1c85c0e383740672f698538438a2b\"\n",
    "\n",
    "payload = {}\n",
    "headers = {\n",
    "    \"User-Agent\": \"Mozilla/5.0 (Macintosh; Intel Mac OS X 10.15; rv:127.0) Gecko/20100101 Firefox/127.0\",\n",
    "    \"Accept\": \"application/vnd.linkedin.normalized+json+2.1\",\n",
    "    \"Accept-Language\": \"en-US,en;q=0.5\",\n",
    "    \"Accept-Encoding\": \"gzip, deflate, br, zstd\",\n",
    "    \"x-li-lang\": \"nl_NL\",\n",
    "    \"x-li-track\": '{\"clientVersion\":\"1.13.19075\",\"mpVersion\":\"1.13.19075\",\"osName\":\"web\",\"timezoneOffset\":2,\"timezone\":\"Europe/Amsterdam\",\"deviceFormFactor\":\"DESKTOP\",\"mpName\":\"voyager-web\",\"displayDensity\":2,\"displayWidth\":3840,\"displayHeight\":2160}',\n",
    "    \"x-li-page-instance\": \"urn:li:page:d_flagship3_search_srp_content;oX0Tee1uTwiUKIIgsZvdnA==\",\n",
    "    \"csrf-token\": \"ajax:1797525637115598100\",\n",
    "    \"x-restli-protocol-version\": \"2.0.0\",\n",
    "    \"x-li-pem-metadata\": \"Voyager - Content SRP=search-results\",\n",
    "    \"Connection\": \"keep-alive\",\n",
    "    \"Referer\": \"https://www.linkedin.com/search/results/content/?keywords=fundamentals%20of%20analytics%20engineering&origin=CLUSTER_EXPANSION&searchId=15a49aba-1ed3-463a-b535-130735ab04e4&sid=yVK\",\n",
    "    \"Cookie\": 'bcookie=\"v=2&b2020c86-5dc3-450f-8853-13bd30b0d156\"; JSESSIONID=\"ajax:1797525637115598100\"; bscookie=\"v=1&20211004095419a8a64eb7-c383-40c9-8b77-c363cfdfa0d4AQGBJ-9en2GmUJue1o18R5iGKPYf_YsJ\"; li_alerts=e30=; G_ENABLED_IDPS=google; li_mc=MTsyMTsxNzE5NDM0NzA4OzI7MDIxDHdtVlZdvaX/5B9RD1cadKLT1sXzWbSBwQrpxxXE0P0=; li_theme=light; li_theme_set=app; li_at=AQEDARP6H5YEvw4xAAABhr2-6qQAAAGQXZs4I00Aqv8UK4cYlRjAJso8rFyKY5clmdxJxntps9-ZfAhuEq7jMqzrWezt-4WKncy6fL9dC4ak-XrICbqEsPG1Ba4CRPIZ8S6yCnZ9w8S57-q_QNulqsJe; liap=true; UserMatchHistory=AQKdNUH45MUZ8QAAAZBWT3Aqd5KvM1_V6K5t2ycHH5w1YOcCMjD4rH8T1c_TzXDTOSRXvIIL8O36U3iHDNVtqw2smXq8wMF_ZZBoIFgKI_90UA-jiyeLE25kvhSMFsrE-LXICYN75usQGojLjRVgxThQA8T5JROqND7woo07Pn9mE-eTBfeP7-T9eN0MTLEdj5CrRLmR3Qa58r_sH3zcl6YOJP0Wn3rrOEOEA3kBJtXLkl3s0aaGfHpHV3XvZBFS1pEBJhUtQwXrOSVIHvD4vlj0etyq_IzuFnISzengp9mHqDuVIn1eyRY0IeCd8onhwOBUJNPKcp1akNxZkXyS9ta-8c8Mt9oIdPzL0EDxOKo-; timezone=Europe/Amsterdam; dfpfpt=97ee2766a8f04da2a287da21030ad4f5; lidc=\"b=TB90:s=T:r=T:a=T:p=T:g=4069:u=895:x=1:i=1719434105:t=1719510095:v=2:sig=AQHyVMQZay47Zr9L28c-p6nf_Iu7FdWs\"; lang=v=2&lang=nl-nl; AMCVS_14215E3D5995C57C0A495C55%40AdobeOrg=1; sdsc=1%3A1SZM1shxDNbLt36wZwCgPgvN58iw%3D; lil-lang=en_US; s_ppv=www.linkedin.com%2Flearning%2Flearning-github-actions-2%2C83%2C42%2C1779%2C1%2C2; s_ips=912; s_tp=2148; s_cc=true; s_plt=12.33; s_pltp=www.linkedin.com%2Flearning%2Flearning-github-actions-2; s_sq=lnkdprod%3D%2526c.%2526a.%2526activitymap.%2526page%253Dwww.linkedin.com%25252Flearning%25252Flearning-github-actions-2%2526link%253DShow%252520less%2526region%253Dember47%2526pageIDType%253D1%2526.activitymap%2526.a%2526.c%2526pid%253Dwww.linkedin.com%25252Flearning%25252Flearning-github-actions-2%2526pidt%253D1%2526oid%253DShow%252520less%2526oidt%253D3%2526ot%253DSUBMIT; PLAY_LANG=nl; PLAY_SESSION=eyJhbGciOiJIUzI1NiJ9.eyJkYXRhIjp7InNlc3Npb25faWQiOiIyMmE4NDY5Mi03YjI4LTQ5MmItOWY4Yi1mMmJjOTIzMzEzNjF8MTY4MzcwNDE4OSIsImFsbG93bGlzdCI6Int9IiwicmVjZW50bHktc2VhcmNoZWQiOiIiLCJyZWZlcnJhbC11cmwiOiJodHRwczovL3d3dy5saW5rZWRpbi5jb20vaW4vbGFzc2UtYmVubmluZ2EtYTQ2MmIxOTQvZGV0YWlscy9leHBlcmllbmNlL2VkaXQvZm9ybXMvMjE3MjgzMDE1NS8_cHJvZmlsZUZvcm1FbnRyeVBvaW50PVBST0ZJTEVfU0VDVElPTiIsImFpZCI6IiIsInJlY2VudGx5LXZpZXdlZCI6IjU0ODU5MyIsIkNQVC1pZCI6IjzCssKKXHUwMDE2I8Olw7jDmFx1MDAxRMO1wpLDm1xudn_DmCIsImV4cGVyaWVuY2UiOiJlbnRpdHkiLCJ0cmsiOiIifSwibmJmIjoxNjgzNzA0MTkwLCJpYXQiOjE2ODM3MDQxOTB9.L-QxzNmGycKEjgL32niBt-Q0tVkwVrhLnvTC5k120n8; fptctx2=taBcrIH61PuCVH7eNCyH0J9Fjk1kZEyRnBbpUW3FKs9c%252fDr2Ws%252buGVR8BooaDBAy6%252fgBMP3WsJmhC69C4Nl7TKhnhUTUDNIfmQtr87B%252b79TcvaKUpsVjT80UDWU76l2Yu%252ftX2Cb1vhvFbftC83DOevE12g6O%252bjQaj4jCcM0gWRYONDgsxRYfUmGVckxr%252fQxB8yk7dPSbnZhXmw65yIXcDbvC49%252fFRJzO0zQ4LTIPemLUY02Iegk%252bWgXcAEqVE2RK8924g%252bZ9DipZr%252fUUYR1yJrzCZB9fNTOrU6dfBXbOT3KYFSSkcWL0teyA3mGyAS1MojYlaglCChSPeELZ7Kv0UsVQ%252by4uy8yrS8dsDoWlmXk%253d',\n",
    "    \"Sec-Fetch-Dest\": \"empty\",\n",
    "    \"Sec-Fetch-Mode\": \"cors\",\n",
    "    \"Sec-Fetch-Site\": \"same-origin\",\n",
    "    \"DNT\": \"1\",\n",
    "    \"Sec-GPC\": \"1\",\n",
    "    \"Pragma\": \"no-cache\",\n",
    "    \"Cache-Control\": \"no-cache\",\n",
    "    \"TE\": \"trailers\",\n",
    "}\n",
    "\n",
    "response = session.get(url, headers=headers, data=payload)\n",
    "\n",
    "res = response.json()\n",
    "\n"
   ]
  },
  {
   "cell_type": "code",
   "execution_count": null,
   "metadata": {},
   "outputs": [],
   "source": [
    "from typing import Optional, List\n",
    "from pydantic import BaseModel, HttpUrl, Extra\n",
    "\n",
    "\n",
    "class TextContent(BaseModel):\n",
    "    text: Optional[str] = None\n",
    "\n",
    "    class Config:\n",
    "        extra = \"ignore\"\n",
    "\n",
    "\n",
    "class SummaryContent(BaseModel):\n",
    "    text_direction: Optional[str] = None\n",
    "    text: Optional[str] = None\n",
    "\n",
    "    class Config:\n",
    "        extra = \"ignore\"\n",
    "\n",
    "\n",
    "class EntityEmbeddedObject(BaseModel):\n",
    "    title: Optional[TextContent] = None\n",
    "\n",
    "    class Config:\n",
    "        extra = \"ignore\"\n",
    "\n",
    "\n",
    "class LinkedInPost(BaseModel):\n",
    "    title: Optional[TextContent] = None\n",
    "    primary_subtitle: Optional[TextContent] = None\n",
    "    summary: Optional[SummaryContent] = None\n",
    "    actor_navigation_url: Optional[HttpUrl] = None\n",
    "    entity_embedded_object: Optional[EntityEmbeddedObject] = None\n",
    "    navigation_url: Optional[HttpUrl] = None\n",
    "    template: Optional[str] = None\n",
    "\n",
    "    class Config:\n",
    "        extra = \"ignore\"\n",
    "\n",
    "\n",
    "class LinkedInResponse(BaseModel):\n",
    "    included: List[LinkedInPost] = []\n",
    "\n",
    "    class Config:\n",
    "        extra = \"ignore\"\n",
    "\n",
    "    def __getattribute__(self, item):\n",
    "        if item == \"included\":\n",
    "            # Filter the included list to only return items with a 'template' attribute\n",
    "            filtered_included = [\n",
    "                post\n",
    "                for post in super().__getattribute__(item)\n",
    "                if post.template is not None\n",
    "            ]\n",
    "            return filtered_included\n",
    "        else:\n",
    "            # For any other attribute, return it as usual\n",
    "            return super().__getattribute__(item)\n"
   ]
  },
  {
   "cell_type": "code",
   "execution_count": null,
   "metadata": {},
   "outputs": [],
   "source": [
    "posts = LinkedInResponse(**res).included"
   ]
  },
  {
   "cell_type": "code",
   "execution_count": 9,
   "metadata": {},
   "outputs": [
    {
     "data": {
      "text/plain": [
       "[LinkedInPost(title=TextContent(text='Connor Dickson'), primary_subtitle=None, summary=SummaryContent(text_direction=None, text='The concept of analytics engineering is comparatively new. \\n\\nTaking data engineering tasks and mashing it with the responsibilities of data analysts is somewhat novel. \\n\\nThat’s why I’m excited that Packt wrote a book on the Fundamentals of Analytics Engineering and sent me a copy! \\n\\nTheir book touches on topics such as:\\n\\n🔨 Building Data Pipelines \\n\\n🤔 Data Strategy \\n\\n👷\\u200d♂️Building a Data Platform \\n\\nIf you want to learn more about analytics engineering, you’re in luck, Packt is giving away five copies (2 physical, 3 ebooks) of Fundamentals of Analytics Engineering! \\n\\nIf you want a chance to win a copy, just comment on this post and I’ll pick the winners with a RNG.  \\n\\nThe winners will be tagged in a future post, and receive a message from me. Don’t fall for any scams. Only my verfied account will be messaging you about the winners. \\n\\n#datawithdickson #analyticsengineering'), actor_navigation_url=None, entity_embedded_object=None, navigation_url=None, template='CONTENT_A'),\n",
       " LinkedInPost(title=TextContent(text='Fanny Kassapian'), primary_subtitle=None, summary=SummaryContent(text_direction=None, text=\"We wrote a book!!! 📘 🎉 \\n\\nI can't believe we made this happen in just a year. There was no blood, but there definitely was sweat and tears 😂. Incredibly proud of the amount of knowledge we put together. Thank you to the dream team: Juan Manuel Perafan Taís Laurindo Pereira Ricardo Angel Granados López Lasse Benninga Jovan Gligorevic Dumky de Wilde\"), actor_navigation_url=None, entity_embedded_object=None, navigation_url=None, template='CONTENT_B'),\n",
       " LinkedInPost(title=TextContent(text='Dumky de Wilde'), primary_subtitle=None, summary=SummaryContent(text_direction=None, text='We wrote the book I wish I’d had five years ago and last week I was able to present it at our 10th analytics engineering meetup. There is a figure-it-out-yourself mentality in the data & analytics field that I enjoy tremendously, but sometimes it is nice to have a shortcut. The Fundamentals of Analytics Engineering (https://amzn.to/43KxIik) is one of those shortcuts. Each one of the amazing authors brings their own perspective and experience to get you up to speed on data warehouses, data modelling, data ingestion, observability, stakeholder management and navigating the tech landscape. Thanks for the journey Juan Manuel Perafan, Ricardo Angel Granados López Fanny Kassapian Taís Laurindo Pereira Lasse Benninga Jovan Gligorevic'), actor_navigation_url=None, entity_embedded_object=None, navigation_url=None, template='CONTENT_A')]"
      ]
     },
     "execution_count": 9,
     "metadata": {},
     "output_type": "execute_result"
    }
   ],
   "source": [
    "posts"
   ]
  }
 ],
 "metadata": {
  "kernelspec": {
   "display_name": ".venv",
   "language": "python",
   "name": "python3"
  },
  "language_info": {
   "codemirror_mode": {
    "name": "ipython",
    "version": 3
   },
   "file_extension": ".py",
   "mimetype": "text/x-python",
   "name": "python",
   "nbconvert_exporter": "python",
   "pygments_lexer": "ipython3",
   "version": "3.9.19"
  }
 },
 "nbformat": 4,
 "nbformat_minor": 2
}
